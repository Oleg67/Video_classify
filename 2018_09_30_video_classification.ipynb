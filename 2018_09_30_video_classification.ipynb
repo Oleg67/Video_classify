{
 "cells": [
  {
   "cell_type": "code",
   "execution_count": 1,
   "metadata": {},
   "outputs": [
    {
     "data": {
      "text/plain": [
       "'3.4.1'"
      ]
     },
     "execution_count": 1,
     "metadata": {},
     "output_type": "execute_result"
    }
   ],
   "source": [
    "import cv2\n",
    "import skvideo\n",
    "import math\n",
    "import os\n",
    "import numpy as np\n",
    "cv2.__version__"
   ]
  },
  {
   "cell_type": "code",
   "execution_count": 2,
   "metadata": {},
   "outputs": [
    {
     "name": "stderr",
     "output_type": "stream",
     "text": [
      "/home/oleg/anaconda2/lib/python2.7/site-packages/h5py/__init__.py:34: FutureWarning: Conversion of the second argument of issubdtype from `float` to `np.floating` is deprecated. In future, it will be treated as `np.float64 == np.dtype(float).type`.\n",
      "  from ._conv import register_converters as _register_converters\n"
     ]
    },
    {
     "data": {
      "text/plain": [
       "'1.10.0'"
      ]
     },
     "execution_count": 2,
     "metadata": {},
     "output_type": "execute_result"
    }
   ],
   "source": [
    "#libraries\n",
    "import tensorflow as tf\n",
    "import tflearn\n",
    "tf.__version__"
   ]
  },
  {
   "cell_type": "code",
   "execution_count": 3,
   "metadata": {},
   "outputs": [
    {
     "name": "stdout",
     "output_type": "stream",
     "text": [
      "(1594, 20, 32) (1240, 20, 32)\n"
     ]
    }
   ],
   "source": [
    "X_bad = np.load('x_bad.npy')\n",
    "X_good = np.load('x_good.npy')\n",
    "print X_good.shape, X_bad.shape"
   ]
  },
  {
   "cell_type": "code",
   "execution_count": 4,
   "metadata": {
    "collapsed": true
   },
   "outputs": [],
   "source": [
    "y_bad = np.ones(X_bad.shape[0])"
   ]
  },
  {
   "cell_type": "code",
   "execution_count": 5,
   "metadata": {
    "collapsed": true
   },
   "outputs": [],
   "source": [
    "y_good = np.zeros(X_good.shape[0])"
   ]
  },
  {
   "cell_type": "code",
   "execution_count": 6,
   "metadata": {},
   "outputs": [
    {
     "data": {
      "text/plain": [
       "(2834, 20, 32)"
      ]
     },
     "execution_count": 6,
     "metadata": {},
     "output_type": "execute_result"
    }
   ],
   "source": [
    "X = np.concatenate((X_bad, X_good), axis=0)\n",
    "X.shape"
   ]
  },
  {
   "cell_type": "code",
   "execution_count": 7,
   "metadata": {
    "collapsed": true
   },
   "outputs": [],
   "source": [
    "y = np.concatenate((y_bad, y_good))"
   ]
  },
  {
   "cell_type": "code",
   "execution_count": 8,
   "metadata": {},
   "outputs": [
    {
     "name": "stderr",
     "output_type": "stream",
     "text": [
      "/home/oleg/anaconda2/lib/python2.7/site-packages/sklearn/cross_validation.py:41: DeprecationWarning: This module was deprecated in version 0.18 in favor of the model_selection module into which all the refactored classes and functions are moved. Also note that the interface of the new CV iterators are different from that of this module. This module will be removed in 0.20.\n",
      "  \"This module will be removed in 0.20.\", DeprecationWarning)\n"
     ]
    }
   ],
   "source": [
    "from sklearn.cross_validation import train_test_split"
   ]
  },
  {
   "cell_type": "code",
   "execution_count": 9,
   "metadata": {
    "collapsed": true
   },
   "outputs": [],
   "source": [
    "X_train, X_test, y_train, y_test = train_test_split(X, y, test_size=0.2, stratify=y)"
   ]
  },
  {
   "cell_type": "code",
   "execution_count": 10,
   "metadata": {},
   "outputs": [
    {
     "data": {
      "text/plain": [
       "((2267, 20, 32), (2267,), (567, 20, 32))"
      ]
     },
     "execution_count": 10,
     "metadata": {},
     "output_type": "execute_result"
    }
   ],
   "source": [
    "X_train.shape, y_train.shape, X_test.shape"
   ]
  },
  {
   "cell_type": "code",
   "execution_count": 12,
   "metadata": {},
   "outputs": [
    {
     "name": "stdout",
     "output_type": "stream",
     "text": [
      "_________________________________________________________________\n",
      "Layer (type)                 Output Shape              Param #   \n",
      "=================================================================\n",
      "batch_normalization_1 (Batch (None, 20, 32)            128       \n",
      "_________________________________________________________________\n",
      "lstm_2 (LSTM)                (None, 20, 8)             1312      \n",
      "_________________________________________________________________\n",
      "lstm_3 (LSTM)                (None, 8)                 544       \n",
      "_________________________________________________________________\n",
      "dense_1 (Dense)              (None, 1)                 9         \n",
      "=================================================================\n",
      "Total params: 1,993\n",
      "Trainable params: 1,929\n",
      "Non-trainable params: 64\n",
      "_________________________________________________________________\n"
     ]
    }
   ],
   "source": [
    "model = tf.keras.Sequential()\n",
    "#model.add(tf.keras.layers.Reshape((10,2048), input_shape=[10,1,1,2048] ))\n",
    "model.add(tf.keras.layers.BatchNormalization( input_shape=[20,32],))\n",
    "model.add(tf.keras.layers.LSTM(8,  \n",
    "                               dropout=0.2,\n",
    "                               #kernel_initializer='random_uniform',\n",
    "                               #activation='sigmoid'\n",
    "                               return_sequences=True,\n",
    "                              ))\n",
    "model.add(tf.keras.layers.LSTM(8, dropout=0.2, ))\n",
    "#model.add(tf.keras.layers.LSTM(2, recurrent_dropout=0.2, ))\n",
    "#model.add(tf.keras.layers.LSTM(2, recurrent_dropout=0.2, ))\n",
    "#model.add(tf.keras.layers.LSTM(1, recurrent_dropout=0.2, ))\n",
    "model.add(tf.keras.layers.Dense(1, activation='sigmoid'))\n",
    "\n",
    "model.summary()"
   ]
  },
  {
   "cell_type": "code",
   "execution_count": 13,
   "metadata": {
    "collapsed": true
   },
   "outputs": [],
   "source": [
    "adam = tf.keras.optimizers.Adam(lr=1e-2, )\n",
    "model.compile(optimizer=adam, loss='binary_crossentropy', metrics=['accuracy'])"
   ]
  },
  {
   "cell_type": "code",
   "execution_count": 14,
   "metadata": {},
   "outputs": [
    {
     "name": "stdout",
     "output_type": "stream",
     "text": [
      "Train on 2267 samples, validate on 567 samples\n",
      "Epoch 1/50\n",
      " - 3s - loss: 0.4182 - acc: 0.8337 - val_loss: 0.6219 - val_acc: 0.7725\n",
      "Epoch 2/50\n",
      " - 1s - loss: 0.2581 - acc: 0.9034 - val_loss: 0.2650 - val_acc: 0.9101\n",
      "Epoch 3/50\n",
      " - 1s - loss: 0.2051 - acc: 0.9241 - val_loss: 0.1764 - val_acc: 0.9330\n",
      "Epoch 4/50\n",
      " - 1s - loss: 0.1765 - acc: 0.9338 - val_loss: 0.1755 - val_acc: 0.9489\n",
      "Epoch 5/50\n",
      " - 1s - loss: 0.1629 - acc: 0.9449 - val_loss: 0.1255 - val_acc: 0.9612\n",
      "Epoch 6/50\n",
      " - 1s - loss: 0.1524 - acc: 0.9466 - val_loss: 0.0938 - val_acc: 0.9753\n",
      "Epoch 7/50\n",
      " - 1s - loss: 0.1355 - acc: 0.9550 - val_loss: 0.0810 - val_acc: 0.9753\n",
      "Epoch 8/50\n",
      " - 1s - loss: 0.1322 - acc: 0.9541 - val_loss: 0.1177 - val_acc: 0.9541\n",
      "Epoch 9/50\n",
      " - 1s - loss: 0.1346 - acc: 0.9528 - val_loss: 0.0889 - val_acc: 0.9700\n",
      "Epoch 10/50\n",
      " - 1s - loss: 0.1036 - acc: 0.9669 - val_loss: 0.0780 - val_acc: 0.9753\n",
      "Epoch 11/50\n",
      " - 1s - loss: 0.1008 - acc: 0.9704 - val_loss: 0.0551 - val_acc: 0.9859\n",
      "Epoch 12/50\n",
      " - 1s - loss: 0.0945 - acc: 0.9704 - val_loss: 0.0648 - val_acc: 0.9841\n",
      "Epoch 13/50\n",
      " - 1s - loss: 0.0952 - acc: 0.9704 - val_loss: 0.0487 - val_acc: 0.9859\n",
      "Epoch 14/50\n",
      " - 1s - loss: 0.0854 - acc: 0.9731 - val_loss: 0.0461 - val_acc: 0.9912\n",
      "Epoch 15/50\n",
      " - 1s - loss: 0.0827 - acc: 0.9713 - val_loss: 0.0582 - val_acc: 0.9824\n",
      "Epoch 16/50\n",
      " - 1s - loss: 0.1010 - acc: 0.9656 - val_loss: 0.0501 - val_acc: 0.9894\n",
      "Epoch 17/50\n",
      " - 1s - loss: 0.0825 - acc: 0.9713 - val_loss: 0.0437 - val_acc: 0.9894\n",
      "Epoch 18/50\n",
      " - 1s - loss: 0.0868 - acc: 0.9709 - val_loss: 0.0472 - val_acc: 0.9859\n",
      "Epoch 19/50\n",
      " - 1s - loss: 0.0800 - acc: 0.9735 - val_loss: 0.0424 - val_acc: 0.9894\n",
      "Epoch 20/50\n",
      " - 1s - loss: 0.0674 - acc: 0.9779 - val_loss: 0.0430 - val_acc: 0.9859\n",
      "Epoch 21/50\n",
      " - 1s - loss: 0.0631 - acc: 0.9815 - val_loss: 0.0377 - val_acc: 0.9894\n",
      "Epoch 22/50\n",
      " - 1s - loss: 0.0811 - acc: 0.9744 - val_loss: 0.0448 - val_acc: 0.9877\n",
      "Epoch 23/50\n",
      " - 1s - loss: 0.0725 - acc: 0.9749 - val_loss: 0.0500 - val_acc: 0.9859\n",
      "Epoch 24/50\n",
      " - 1s - loss: 0.0679 - acc: 0.9793 - val_loss: 0.0393 - val_acc: 0.9859\n",
      "Epoch 25/50\n",
      " - 1s - loss: 0.0562 - acc: 0.9832 - val_loss: 0.0482 - val_acc: 0.9877\n",
      "Epoch 26/50\n",
      " - 1s - loss: 0.0643 - acc: 0.9793 - val_loss: 0.0375 - val_acc: 0.9912\n",
      "Epoch 27/50\n",
      " - 1s - loss: 0.0601 - acc: 0.9832 - val_loss: 0.0394 - val_acc: 0.9877\n",
      "Epoch 28/50\n",
      " - 1s - loss: 0.0621 - acc: 0.9810 - val_loss: 0.0412 - val_acc: 0.9859\n",
      "Epoch 29/50\n",
      " - 1s - loss: 0.0667 - acc: 0.9801 - val_loss: 0.0382 - val_acc: 0.9894\n",
      "Epoch 30/50\n",
      " - 1s - loss: 0.0601 - acc: 0.9801 - val_loss: 0.0405 - val_acc: 0.9877\n",
      "Epoch 31/50\n",
      " - 1s - loss: 0.0586 - acc: 0.9837 - val_loss: 0.0368 - val_acc: 0.9929\n",
      "Epoch 32/50\n",
      " - 1s - loss: 0.0523 - acc: 0.9832 - val_loss: 0.0341 - val_acc: 0.9929\n",
      "Epoch 33/50\n",
      " - 1s - loss: 0.0626 - acc: 0.9810 - val_loss: 0.0367 - val_acc: 0.9929\n",
      "Epoch 34/50\n",
      " - 1s - loss: 0.0607 - acc: 0.9797 - val_loss: 0.0450 - val_acc: 0.9877\n",
      "Epoch 35/50\n",
      " - 1s - loss: 0.0581 - acc: 0.9841 - val_loss: 0.0423 - val_acc: 0.9824\n",
      "Epoch 36/50\n",
      " - 1s - loss: 0.0652 - acc: 0.9801 - val_loss: 0.0433 - val_acc: 0.9859\n",
      "Epoch 37/50\n",
      " - 1s - loss: 0.0553 - acc: 0.9815 - val_loss: 0.0446 - val_acc: 0.9877\n",
      "Epoch 38/50\n",
      " - 1s - loss: 0.0539 - acc: 0.9810 - val_loss: 0.0733 - val_acc: 0.9788\n",
      "Epoch 39/50\n",
      " - 1s - loss: 0.0680 - acc: 0.9757 - val_loss: 0.0444 - val_acc: 0.9859\n",
      "Epoch 40/50\n",
      " - 1s - loss: 0.0728 - acc: 0.9766 - val_loss: 0.0776 - val_acc: 0.9771\n",
      "Epoch 41/50\n",
      " - 1s - loss: 0.0797 - acc: 0.9718 - val_loss: 0.0448 - val_acc: 0.9859\n",
      "Epoch 42/50\n",
      " - 1s - loss: 0.0508 - acc: 0.9854 - val_loss: 0.0371 - val_acc: 0.9912\n",
      "Epoch 43/50\n",
      " - 1s - loss: 0.0506 - acc: 0.9854 - val_loss: 0.0451 - val_acc: 0.9877\n",
      "Epoch 44/50\n",
      " - 1s - loss: 0.0536 - acc: 0.9815 - val_loss: 0.0400 - val_acc: 0.9877\n",
      "Epoch 45/50\n",
      " - 1s - loss: 0.0529 - acc: 0.9832 - val_loss: 0.0448 - val_acc: 0.9877\n",
      "Epoch 46/50\n",
      " - 1s - loss: 0.0579 - acc: 0.9810 - val_loss: 0.0507 - val_acc: 0.9877\n",
      "Epoch 47/50\n",
      " - 1s - loss: 0.0515 - acc: 0.9819 - val_loss: 0.0463 - val_acc: 0.9877\n",
      "Epoch 48/50\n",
      " - 1s - loss: 0.0548 - acc: 0.9824 - val_loss: 0.0379 - val_acc: 0.9877\n",
      "Epoch 49/50\n",
      " - 1s - loss: 0.0452 - acc: 0.9850 - val_loss: 0.0214 - val_acc: 0.9877\n",
      "Epoch 50/50\n",
      " - 1s - loss: 0.0519 - acc: 0.9819 - val_loss: 0.0175 - val_acc: 0.9912\n"
     ]
    }
   ],
   "source": [
    "with tf.device('/gpu:0'):\n",
    "    model.fit(X_train, \n",
    "              y_train, \n",
    "              batch_size=64,  \n",
    "              shuffle=True,\n",
    "              epochs=50, \n",
    "              verbose=2,\n",
    "                    #use_multiprocessing=True,\n",
    "              validation_data=(X_test , y_test)\n",
    "                     )"
   ]
  },
  {
   "cell_type": "code",
   "execution_count": 15,
   "metadata": {
    "collapsed": true
   },
   "outputs": [],
   "source": [
    "model.save('video_clasification2.h5')"
   ]
  },
  {
   "cell_type": "code",
   "execution_count": null,
   "metadata": {
    "collapsed": true
   },
   "outputs": [],
   "source": []
  }
 ],
 "metadata": {
  "kernelspec": {
   "display_name": "Python 2",
   "language": "python",
   "name": "python2"
  },
  "language_info": {
   "codemirror_mode": {
    "name": "ipython",
    "version": 2
   },
   "file_extension": ".py",
   "mimetype": "text/x-python",
   "name": "python",
   "nbconvert_exporter": "python",
   "pygments_lexer": "ipython2",
   "version": "2.7.15"
  }
 },
 "nbformat": 4,
 "nbformat_minor": 2
}
