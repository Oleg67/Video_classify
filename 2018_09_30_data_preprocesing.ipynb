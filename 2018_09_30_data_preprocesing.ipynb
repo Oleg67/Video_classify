{
 "cells": [
  {
   "cell_type": "code",
   "execution_count": 1,
   "metadata": {},
   "outputs": [
    {
     "data": {
      "text/plain": [
       "'3.4.1'"
      ]
     },
     "execution_count": 1,
     "metadata": {},
     "output_type": "execute_result"
    }
   ],
   "source": [
    "import cv2\n",
    "import skvideo\n",
    "import math\n",
    "import os\n",
    "import numpy as np\n",
    "cv2.__version__"
   ]
  },
  {
   "cell_type": "code",
   "execution_count": 2,
   "metadata": {
    "collapsed": true
   },
   "outputs": [],
   "source": [
    "import imageio"
   ]
  },
  {
   "cell_type": "code",
   "execution_count": 3,
   "metadata": {
    "collapsed": true
   },
   "outputs": [],
   "source": [
    "import pickle\n",
    "import matplotlib.pyplot as plt\n",
    "%matplotlib inline\n"
   ]
  },
  {
   "cell_type": "code",
   "execution_count": 4,
   "metadata": {
    "collapsed": true
   },
   "outputs": [],
   "source": [
    "def create_list_of_images(folder, max_length=20, f_lists=np.array([]), period=5):\n",
    "    \"\"\"\n",
    "    serve to make the list of video images as a sequence with the period \n",
    "    max_length  is the length of images' sequence\n",
    "    return list of images as a list of paths or as images' sequence\n",
    "    \"\"\"\n",
    "    \n",
    "    f_list = np.sort(os.listdir(folder))\n",
    "    f_list = np.vectorize(lambda x: os.path.join(os.getcwd(), folder, x))(f_list) # the full names of files\n",
    "    \n",
    "    ind_mask = (np.arange(len(f_list)) % period == 0) # mask for images with the period\n",
    "    \n",
    "    # if the number of images in the folder less then max length \n",
    "    # reduce the period or fill the sequence the same images\n",
    "    while (np.sum(ind_mask) < max_length) & (period > 1):\n",
    "        period -=1\n",
    "        ind_mask = np.arange(len(f_list)) % period == 0\n",
    "        if (period ==1) & (np.sum(ind_mask) < max_length):\n",
    "            f_list = np.sort(np.random.choice(f_list, size=max_length))\n",
    "            return np.append(f_lists, f_list)\n",
    "        \n",
    "    # if the number of images in the folder  more then max length\n",
    "    # images from folder are taken to create the image's sequence with the max length by shift the mask \n",
    "    for j in range(period):\n",
    "        if j != 0:\n",
    "            ind_mask[-1] = False\n",
    "            ind_mask = np.roll(ind_mask, 1) # shift the period' mask to one step\n",
    "        f_temp = f_list[ind_mask]  # images that match the period\n",
    "        \n",
    "        # separate the f_temp to image' sequence with the max length\n",
    "        for i in range(len(f_temp) - max_length):\n",
    "            _f_list = f_temp[i*max_length :(i+1)*max_length]\n",
    "            if len(_f_list) == 0:\n",
    "                break\n",
    "            if len(_f_list) < max_length:\n",
    "                _f_list = np.sort(np.random.choice(_f_list, size=max_length))\n",
    "                break\n",
    "            f_lists = np.append(f_lists, _f_list)\n",
    "        \n",
    "    return f_lists"
   ]
  },
  {
   "cell_type": "code",
   "execution_count": 9,
   "metadata": {
    "collapsed": true
   },
   "outputs": [],
   "source": [
    "def get_list_of_imagesPath(folder):\n",
    "    \"\"\"\n",
    "    create a list of all images' paths  for all subfolders in the folder\n",
    "    \"\"\"\n",
    "\n",
    "    fd_list = []\n",
    "    \n",
    "    if not all_dir(folder):\n",
    "        return sorted(map(lambda x: os.path.join(folder, x), os.listdir(folder)))\n",
    "    \n",
    "    for fd in os.listdir(folder):\n",
    "        path = os.path.join(os.getcwd(), folder, fd)\n",
    "        fd_list += get_list_of_imagesPath(path)\n",
    "\n",
    "    return fd_list "
   ]
  },
  {
   "cell_type": "code",
   "execution_count": 10,
   "metadata": {
    "collapsed": true
   },
   "outputs": [],
   "source": [
    "def get_images_sequences(image_list, max_length=20, period=5):\n",
    "    \"\"\"\n",
    "    make the list of lmage' sequences with length = max_length, \n",
    "    and use images with period in the one sequence\n",
    "    \"\"\"\n",
    "    pass"
   ]
  },
  {
   "cell_type": "code",
   "execution_count": 7,
   "metadata": {
    "collapsed": true
   },
   "outputs": [],
   "source": [
    "def get_list_sequence_images(PATH, max_length=20, period=5):\n",
    "    \"\"\"\n",
    "    serve to make the 2D tensor from the list of images\n",
    "    with max length and period\n",
    "    return 2D tensor (number of images' sequences, max length)\n",
    "    \"\"\"\n",
    "    \n",
    "    ff = np.vectorize(lambda x: os.path.join(os.getcwd(), PATH, x))(np.sort(os.listdir(PATH)))\n",
    "    f_lists = np.array([])\n",
    "    for f in ff:\n",
    "        if len(f_lists) == 0:\n",
    "            f_lists = create_list_of_images(f, max_length=max_length, period=period)\n",
    "        f_lists = create_list_of_images(f, max_length=max_length, f_lists=f_lists, period=period)\n",
    "    \n",
    "    return f_lists.reshape(len(f_lists)/max_length, max_length)"
   ]
  },
  {
   "cell_type": "code",
   "execution_count": 8,
   "metadata": {},
   "outputs": [
    {
     "name": "stdout",
     "output_type": "stream",
     "text": [
      "new_224_112_filter_1/video_bad (1240, 20)\n",
      "new_224_112_filter_1/video_good (1594, 20)\n"
     ]
    }
   ],
   "source": [
    "f_lists = {}\n",
    "for f in ['video_bad', 'video_good']:\n",
    "    PATH = os.path.join('new_224_112_filter_1', f)\n",
    "    f_lists[f] = get_list_sequence_images(PATH, 20) # make the dictionary of images' lists\n",
    "    print PATH, f_lists[f].shape"
   ]
  },
  {
   "cell_type": "code",
   "execution_count": 19,
   "metadata": {
    "collapsed": true
   },
   "outputs": [],
   "source": [
    "def get_image_size(folder, add_folder='train'):\n",
    "    \"\"\"\n",
    "    return the size of images in the folder\n",
    "    \"\"\"\n",
    "    try:\n",
    "        if add_folder:\n",
    "            path = os.path.join(os.getcwd(), folder, add_folder)\n",
    "        else:\n",
    "            path = os.path.join(os.getcwd(), folder)\n",
    "        \n",
    "        while os.path.isdir(path):\n",
    "            filename = os.listdir(path)[0]\n",
    "            path = os.path.join(path, filename)\n",
    "            #print path\n",
    "            \n",
    "    except OSError as e:\n",
    "        print e\n",
    "        return\n",
    "\n",
    "    return imageio.imread(path).shape"
   ]
  },
  {
   "cell_type": "code",
   "execution_count": 17,
   "metadata": {},
   "outputs": [
    {
     "data": {
      "text/plain": [
       "['video_00001']"
      ]
     },
     "execution_count": 17,
     "metadata": {},
     "output_type": "execute_result"
    }
   ],
   "source": [
    "os.listdir(PATH)"
   ]
  },
  {
   "cell_type": "code",
   "execution_count": 20,
   "metadata": {},
   "outputs": [
    {
     "data": {
      "text/plain": [
       "(112, 224)"
      ]
     },
     "execution_count": 20,
     "metadata": {},
     "output_type": "execute_result"
    }
   ],
   "source": [
    "get_image_size(PATH.split('/')[0])i"
   ]
  },
  {
   "cell_type": "code",
   "execution_count": 21,
   "metadata": {},
   "outputs": [
    {
     "name": "stderr",
     "output_type": "stream",
     "text": [
      "/home/oleg/anaconda2/lib/python2.7/site-packages/h5py/__init__.py:34: FutureWarning: Conversion of the second argument of issubdtype from `float` to `np.floating` is deprecated. In future, it will be treated as `np.float64 == np.dtype(float).type`.\n",
      "  from ._conv import register_converters as _register_converters\n"
     ]
    },
    {
     "data": {
      "text/plain": [
       "'1.10.0'"
      ]
     },
     "execution_count": 21,
     "metadata": {},
     "output_type": "execute_result"
    }
   ],
   "source": [
    "#libraries\n",
    "import tensorflow as tf\n",
    "import tflearn\n",
    "tf.__version__"
   ]
  },
  {
   "cell_type": "code",
   "execution_count": 47,
   "metadata": {},
   "outputs": [],
   "source": [
    "from imageio import imread\n",
    "\n",
    "size = get_image_size(PATH.split('/')[0])\n",
    "\n",
    "def create_tensor_from_list_of_image_sequence(image_list, size=size):\n",
    "    \"\"\"\n",
    "    get the tensor from lists of images\n",
    "    \"\"\"\n",
    "    # chech How much chanal does the image have?\n",
    "    if len(size) == 2:\n",
    "        w, h, c = size[0], size[1], 1\n",
    "        X = np.full((len(image_list), w , h ), 0, dtype=np.int8)\n",
    "    elif len(size) == 3:\n",
    "        w, h, c = size[0], size[1], size[2]\n",
    "        X = np.full((len(image_list), w , h, c), 0, dtype=np.int8)\n",
    "\n",
    "    for i,img in enumerate(image_list):\n",
    "        \n",
    "        image = tf.keras.preprocessing.image.load_img(img, target_size=size)\n",
    "        if c == 1:\n",
    "            X[i] = tf.keras.preprocessing.image.img_to_array(image)[:,:,0]\n",
    "        elif c ==3:\n",
    "            X[i] = tf.keras.preprocessing.image.img_to_array(image)\n",
    "         \n",
    "    return X"
   ]
  },
  {
   "cell_type": "code",
   "execution_count": 32,
   "metadata": {},
   "outputs": [],
   "source": [
    "img = '/home/oleg/EnkeSystem/new_224_112_filter_1/video_bad/video_00001/00001_image.jpg'\n",
    "image = tf.keras.preprocessing.image.load_img(img, target_size=size)"
   ]
  },
  {
   "cell_type": "code",
   "execution_count": 33,
   "metadata": {},
   "outputs": [],
   "source": [
    "imag = tf.keras.preprocessing.image.img_to_array(image)"
   ]
  },
  {
   "cell_type": "code",
   "execution_count": 34,
   "metadata": {},
   "outputs": [
    {
     "data": {
      "text/plain": [
       "(112, 224, 3)"
      ]
     },
     "execution_count": 34,
     "metadata": {},
     "output_type": "execute_result"
    }
   ],
   "source": [
    "imag.shape"
   ]
  },
  {
   "cell_type": "code",
   "execution_count": 36,
   "metadata": {},
   "outputs": [
    {
     "data": {
      "text/plain": [
       "(112, 224, 1)"
      ]
     },
     "execution_count": 36,
     "metadata": {},
     "output_type": "execute_result"
    }
   ],
   "source": [
    "imag[:,:,0, np.newaxis].shape"
   ]
  },
  {
   "cell_type": "code",
   "execution_count": 48,
   "metadata": {
    "collapsed": true
   },
   "outputs": [],
   "source": [
    "def create_tensor_of_featues(image_list, model):\n",
    "    \"\"\"\n",
    "    from the 2D tensor of images make 3D the data's features tensor using  the model to extract image's features\n",
    "    image_list - 2D tensor of images' names that were united to make images' sequences\n",
    "    model - the model to extract the image' features\n",
    "    return the 3D tensor (number of images, length of images' sequence, number of image' features)    \n",
    "    \"\"\"\n",
    "    N = image_list.shape[0]\n",
    "    l = image_list.shape[1]\n",
    "    n,  = model.output_shape[1:]\n",
    "    \n",
    "    \n",
    "    X = np.zeros((N, l, n))\n",
    "    \n",
    "    for i in range(N):\n",
    "        x = create_tensor_from_list_of_image_sequence(image_list[i])\n",
    "        #print x.shape\n",
    "        features = model.predict_on_batch(x[:, :, :, np.newaxis])\n",
    "        \n",
    "        #features = tf.nn.batch_normalization(features, )\n",
    "        X[i] = features.reshape(features.shape[0], features.shape[1])\n",
    "        \n",
    "    return X"
   ]
  },
  {
   "cell_type": "code",
   "execution_count": 38,
   "metadata": {
    "collapsed": true
   },
   "outputs": [],
   "source": [
    "cnn_model = tf.keras.models.load_model('cnn_model.h5')"
   ]
  },
  {
   "cell_type": "code",
   "execution_count": 14,
   "metadata": {
    "collapsed": true,
    "scrolled": true
   },
   "outputs": [],
   "source": [
    "#load json and create model\n",
    "with open('cnn_model.json', 'r') as model_file:\n",
    "    cnn_model = tf.keras.models.model_from_json(model_file.read())\n",
    "#load weights into model\n",
    "cnn_model.load_weights('cnn_model_weights.h5')"
   ]
  },
  {
   "cell_type": "code",
   "execution_count": 39,
   "metadata": {},
   "outputs": [
    {
     "data": {
      "text/plain": [
       "(None, 32)"
      ]
     },
     "execution_count": 39,
     "metadata": {},
     "output_type": "execute_result"
    }
   ],
   "source": [
    "cnn_Model = tf.keras.Model(inputs=cnn_model.input,\n",
    "                   outputs=cnn_model.get_layer(index=-3).output)\n",
    "\n",
    "cnn_Model.output_shape"
   ]
  },
  {
   "cell_type": "code",
   "execution_count": null,
   "metadata": {
    "collapsed": true
   },
   "outputs": [],
   "source": [
    "folders_video = ['new_224_112_filter/video_good', 'new_224_112_filter/video_bad']"
   ]
  },
  {
   "cell_type": "code",
   "execution_count": 49,
   "metadata": {},
   "outputs": [],
   "source": [
    "X = create_tensor_of_featues(f_lists['video_bad'], cnn_Model)"
   ]
  },
  {
   "cell_type": "code",
   "execution_count": 50,
   "metadata": {},
   "outputs": [
    {
     "data": {
      "text/plain": [
       "(1240, 20, 32)"
      ]
     },
     "execution_count": 50,
     "metadata": {},
     "output_type": "execute_result"
    }
   ],
   "source": [
    "X.shape"
   ]
  },
  {
   "cell_type": "code",
   "execution_count": 51,
   "metadata": {
    "collapsed": true
   },
   "outputs": [],
   "source": [
    "np.save('x_bad', X)"
   ]
  },
  {
   "cell_type": "code",
   "execution_count": 52,
   "metadata": {},
   "outputs": [
    {
     "name": "stdout",
     "output_type": "stream",
     "text": [
      "(1594, 20, 32)\n"
     ]
    }
   ],
   "source": [
    "X = create_tensor_of_featues(f_lists['video_good'], cnn_Model)\n",
    "print X.shape\n",
    "np.save('x_good', X)"
   ]
  },
  {
   "cell_type": "code",
   "execution_count": null,
   "metadata": {
    "collapsed": true
   },
   "outputs": [],
   "source": []
  }
 ],
 "metadata": {
  "kernelspec": {
   "display_name": "Python 2",
   "language": "python",
   "name": "python2"
  },
  "language_info": {
   "codemirror_mode": {
    "name": "ipython",
    "version": 2
   },
   "file_extension": ".py",
   "mimetype": "text/x-python",
   "name": "python",
   "nbconvert_exporter": "python",
   "pygments_lexer": "ipython2",
   "version": "2.7.15"
  }
 },
 "nbformat": 4,
 "nbformat_minor": 2
}
